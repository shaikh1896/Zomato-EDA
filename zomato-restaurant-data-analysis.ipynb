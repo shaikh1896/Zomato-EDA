{
 "cells": [
  {
   "cell_type": "markdown",
   "metadata": {},
   "source": [
    "# Zomato exploratory data analysis\n"
   ]
  },
  {
   "cell_type": "markdown",
   "metadata": {},
   "source": [
    "# Importing Libraries"
   ]
  },
  {
   "cell_type": "code",
   "execution_count": 57,
   "metadata": {},
   "outputs": [],
   "source": [
    "# Importing the required Libraries\n",
    "import pandas as pd\n",
    "import numpy as np\n",
    "import matplotlib.pyplot as plt\n"
   ]
  },
  {
   "cell_type": "markdown",
   "metadata": {},
   "source": [
    "# Loading the data"
   ]
  },
  {
   "cell_type": "markdown",
   "metadata": {},
   "source": [
    "Objective of this case study:\n",
    "    Doing EDA of zomato dataset and finding key insights from data"
   ]
  },
  {
   "cell_type": "code",
   "execution_count": 58,
   "metadata": {},
   "outputs": [],
   "source": [
    "#initial View Of the data set\n",
    "df=pd.read_csv('zomato.csv',encoding='latin-1')\n",
    "codes = pd.read_csv('codes.csv')\n",
    "\n",
    "#rename all columns in dataframe\n",
    "codes.columns=['Country Code','Country']\n",
    "\n",
    "\n",
    "#Join 2 dataframes to have Country Name column in resulting DataFrame\n",
    "df = pd.merge(df,codes,on='Country Code',how='inner')"
   ]
  },
  {
   "cell_type": "code",
   "execution_count": 59,
   "metadata": {},
   "outputs": [
    {
     "data": {
      "text/html": [
       "<div>\n",
       "<style scoped>\n",
       "    .dataframe tbody tr th:only-of-type {\n",
       "        vertical-align: middle;\n",
       "    }\n",
       "\n",
       "    .dataframe tbody tr th {\n",
       "        vertical-align: top;\n",
       "    }\n",
       "\n",
       "    .dataframe thead th {\n",
       "        text-align: right;\n",
       "    }\n",
       "</style>\n",
       "<table border=\"1\" class=\"dataframe\">\n",
       "  <thead>\n",
       "    <tr style=\"text-align: right;\">\n",
       "      <th></th>\n",
       "      <th>Restaurant ID</th>\n",
       "      <th>Restaurant Name</th>\n",
       "      <th>Country Code</th>\n",
       "      <th>City</th>\n",
       "      <th>Address</th>\n",
       "      <th>Locality</th>\n",
       "      <th>Locality Verbose</th>\n",
       "      <th>Longitude</th>\n",
       "      <th>Latitude</th>\n",
       "      <th>Cuisines</th>\n",
       "      <th>...</th>\n",
       "      <th>Has Table booking</th>\n",
       "      <th>Has Online delivery</th>\n",
       "      <th>Is delivering now</th>\n",
       "      <th>Switch to order menu</th>\n",
       "      <th>Price range</th>\n",
       "      <th>Aggregate rating</th>\n",
       "      <th>Rating color</th>\n",
       "      <th>Rating text</th>\n",
       "      <th>Votes</th>\n",
       "      <th>Country</th>\n",
       "    </tr>\n",
       "  </thead>\n",
       "  <tbody>\n",
       "    <tr>\n",
       "      <th>0</th>\n",
       "      <td>6317637</td>\n",
       "      <td>Le Petit Souffle</td>\n",
       "      <td>162</td>\n",
       "      <td>Makati City</td>\n",
       "      <td>Third Floor, Century City Mall, Kalayaan Avenu...</td>\n",
       "      <td>Century City Mall, Poblacion, Makati City</td>\n",
       "      <td>Century City Mall, Poblacion, Makati City, Mak...</td>\n",
       "      <td>121.027535</td>\n",
       "      <td>14.565443</td>\n",
       "      <td>French, Japanese, Desserts</td>\n",
       "      <td>...</td>\n",
       "      <td>Yes</td>\n",
       "      <td>No</td>\n",
       "      <td>No</td>\n",
       "      <td>No</td>\n",
       "      <td>3</td>\n",
       "      <td>4.8</td>\n",
       "      <td>Dark Green</td>\n",
       "      <td>Excellent</td>\n",
       "      <td>314</td>\n",
       "      <td>Phillipines</td>\n",
       "    </tr>\n",
       "    <tr>\n",
       "      <th>1</th>\n",
       "      <td>6304287</td>\n",
       "      <td>Izakaya Kikufuji</td>\n",
       "      <td>162</td>\n",
       "      <td>Makati City</td>\n",
       "      <td>Little Tokyo, 2277 Chino Roces Avenue, Legaspi...</td>\n",
       "      <td>Little Tokyo, Legaspi Village, Makati City</td>\n",
       "      <td>Little Tokyo, Legaspi Village, Makati City, Ma...</td>\n",
       "      <td>121.014101</td>\n",
       "      <td>14.553708</td>\n",
       "      <td>Japanese</td>\n",
       "      <td>...</td>\n",
       "      <td>Yes</td>\n",
       "      <td>No</td>\n",
       "      <td>No</td>\n",
       "      <td>No</td>\n",
       "      <td>3</td>\n",
       "      <td>4.5</td>\n",
       "      <td>Dark Green</td>\n",
       "      <td>Excellent</td>\n",
       "      <td>591</td>\n",
       "      <td>Phillipines</td>\n",
       "    </tr>\n",
       "    <tr>\n",
       "      <th>2</th>\n",
       "      <td>6300002</td>\n",
       "      <td>Heat - Edsa Shangri-La</td>\n",
       "      <td>162</td>\n",
       "      <td>Mandaluyong City</td>\n",
       "      <td>Edsa Shangri-La, 1 Garden Way, Ortigas, Mandal...</td>\n",
       "      <td>Edsa Shangri-La, Ortigas, Mandaluyong City</td>\n",
       "      <td>Edsa Shangri-La, Ortigas, Mandaluyong City, Ma...</td>\n",
       "      <td>121.056831</td>\n",
       "      <td>14.581404</td>\n",
       "      <td>Seafood, Asian, Filipino, Indian</td>\n",
       "      <td>...</td>\n",
       "      <td>Yes</td>\n",
       "      <td>No</td>\n",
       "      <td>No</td>\n",
       "      <td>No</td>\n",
       "      <td>4</td>\n",
       "      <td>4.4</td>\n",
       "      <td>Green</td>\n",
       "      <td>Very Good</td>\n",
       "      <td>270</td>\n",
       "      <td>Phillipines</td>\n",
       "    </tr>\n",
       "    <tr>\n",
       "      <th>3</th>\n",
       "      <td>6318506</td>\n",
       "      <td>Ooma</td>\n",
       "      <td>162</td>\n",
       "      <td>Mandaluyong City</td>\n",
       "      <td>Third Floor, Mega Fashion Hall, SM Megamall, O...</td>\n",
       "      <td>SM Megamall, Ortigas, Mandaluyong City</td>\n",
       "      <td>SM Megamall, Ortigas, Mandaluyong City, Mandal...</td>\n",
       "      <td>121.056475</td>\n",
       "      <td>14.585318</td>\n",
       "      <td>Japanese, Sushi</td>\n",
       "      <td>...</td>\n",
       "      <td>No</td>\n",
       "      <td>No</td>\n",
       "      <td>No</td>\n",
       "      <td>No</td>\n",
       "      <td>4</td>\n",
       "      <td>4.9</td>\n",
       "      <td>Dark Green</td>\n",
       "      <td>Excellent</td>\n",
       "      <td>365</td>\n",
       "      <td>Phillipines</td>\n",
       "    </tr>\n",
       "    <tr>\n",
       "      <th>4</th>\n",
       "      <td>6314302</td>\n",
       "      <td>Sambo Kojin</td>\n",
       "      <td>162</td>\n",
       "      <td>Mandaluyong City</td>\n",
       "      <td>Third Floor, Mega Atrium, SM Megamall, Ortigas...</td>\n",
       "      <td>SM Megamall, Ortigas, Mandaluyong City</td>\n",
       "      <td>SM Megamall, Ortigas, Mandaluyong City, Mandal...</td>\n",
       "      <td>121.057508</td>\n",
       "      <td>14.584450</td>\n",
       "      <td>Japanese, Korean</td>\n",
       "      <td>...</td>\n",
       "      <td>Yes</td>\n",
       "      <td>No</td>\n",
       "      <td>No</td>\n",
       "      <td>No</td>\n",
       "      <td>4</td>\n",
       "      <td>4.8</td>\n",
       "      <td>Dark Green</td>\n",
       "      <td>Excellent</td>\n",
       "      <td>229</td>\n",
       "      <td>Phillipines</td>\n",
       "    </tr>\n",
       "  </tbody>\n",
       "</table>\n",
       "<p>5 rows × 22 columns</p>\n",
       "</div>"
      ],
      "text/plain": [
       "   Restaurant ID         Restaurant Name  Country Code              City  \\\n",
       "0        6317637        Le Petit Souffle           162       Makati City   \n",
       "1        6304287        Izakaya Kikufuji           162       Makati City   \n",
       "2        6300002  Heat - Edsa Shangri-La           162  Mandaluyong City   \n",
       "3        6318506                    Ooma           162  Mandaluyong City   \n",
       "4        6314302             Sambo Kojin           162  Mandaluyong City   \n",
       "\n",
       "                                             Address  \\\n",
       "0  Third Floor, Century City Mall, Kalayaan Avenu...   \n",
       "1  Little Tokyo, 2277 Chino Roces Avenue, Legaspi...   \n",
       "2  Edsa Shangri-La, 1 Garden Way, Ortigas, Mandal...   \n",
       "3  Third Floor, Mega Fashion Hall, SM Megamall, O...   \n",
       "4  Third Floor, Mega Atrium, SM Megamall, Ortigas...   \n",
       "\n",
       "                                     Locality  \\\n",
       "0   Century City Mall, Poblacion, Makati City   \n",
       "1  Little Tokyo, Legaspi Village, Makati City   \n",
       "2  Edsa Shangri-La, Ortigas, Mandaluyong City   \n",
       "3      SM Megamall, Ortigas, Mandaluyong City   \n",
       "4      SM Megamall, Ortigas, Mandaluyong City   \n",
       "\n",
       "                                    Locality Verbose   Longitude   Latitude  \\\n",
       "0  Century City Mall, Poblacion, Makati City, Mak...  121.027535  14.565443   \n",
       "1  Little Tokyo, Legaspi Village, Makati City, Ma...  121.014101  14.553708   \n",
       "2  Edsa Shangri-La, Ortigas, Mandaluyong City, Ma...  121.056831  14.581404   \n",
       "3  SM Megamall, Ortigas, Mandaluyong City, Mandal...  121.056475  14.585318   \n",
       "4  SM Megamall, Ortigas, Mandaluyong City, Mandal...  121.057508  14.584450   \n",
       "\n",
       "                           Cuisines  ...  Has Table booking  \\\n",
       "0        French, Japanese, Desserts  ...                Yes   \n",
       "1                          Japanese  ...                Yes   \n",
       "2  Seafood, Asian, Filipino, Indian  ...                Yes   \n",
       "3                   Japanese, Sushi  ...                 No   \n",
       "4                  Japanese, Korean  ...                Yes   \n",
       "\n",
       "  Has Online delivery Is delivering now Switch to order menu Price range  \\\n",
       "0                  No                No                   No           3   \n",
       "1                  No                No                   No           3   \n",
       "2                  No                No                   No           4   \n",
       "3                  No                No                   No           4   \n",
       "4                  No                No                   No           4   \n",
       "\n",
       "  Aggregate rating  Rating color  Rating text Votes      Country  \n",
       "0              4.8    Dark Green    Excellent   314  Phillipines  \n",
       "1              4.5    Dark Green    Excellent   591  Phillipines  \n",
       "2              4.4         Green    Very Good   270  Phillipines  \n",
       "3              4.9    Dark Green    Excellent   365  Phillipines  \n",
       "4              4.8    Dark Green    Excellent   229  Phillipines  \n",
       "\n",
       "[5 rows x 22 columns]"
      ]
     },
     "execution_count": 59,
     "metadata": {},
     "output_type": "execute_result"
    }
   ],
   "source": [
    "df.head()"
   ]
  },
  {
   "cell_type": "code",
   "execution_count": 117,
   "metadata": {},
   "outputs": [
    {
     "data": {
      "text/plain": [
       "Restaurant ID           0\n",
       "Restaurant Name         0\n",
       "Country Code            0\n",
       "City                    0\n",
       "Address                 0\n",
       "Locality                0\n",
       "Locality Verbose        0\n",
       "Longitude               0\n",
       "Latitude                0\n",
       "Cuisines                9\n",
       "Average Cost for two    0\n",
       "Currency                0\n",
       "Has Table booking       0\n",
       "Has Online delivery     0\n",
       "Is delivering now       0\n",
       "Switch to order menu    0\n",
       "Price range             0\n",
       "Aggregate rating        0\n",
       "Rating color            0\n",
       "Rating text             0\n",
       "Votes                   0\n",
       "Country                 0\n",
       "dtype: int64"
      ]
     },
     "execution_count": 117,
     "metadata": {},
     "output_type": "execute_result"
    }
   ],
   "source": [
    "# checking for null values\n",
    "df.isna().sum()"
   ]
  },
  {
   "cell_type": "code",
   "execution_count": 60,
   "metadata": {},
   "outputs": [
    {
     "data": {
      "text/plain": [
       "<AxesSubplot:title={'center':'Total Restaurants On Zomato In Countries'}>"
      ]
     },
     "execution_count": 60,
     "metadata": {},
     "output_type": "execute_result"
    },
    {
     "data": {
      "image/png": "[encoded data removed]",
      "text/plain": [
       "<Figure size 1440x720 with 1 Axes>"
      ]
     },
     "metadata": {
      "needs_background": "light"
     },
     "output_type": "display_data"
    }
   ],
   "source": [
    "# Lets see number of restaurant in each country\n",
    "Country=df['Country'].value_counts()\n",
    "Country\n",
    "\n",
    "#plot bar graph\n",
    "df['Country'].value_counts().plot(kind='bar',title='Total Restaurants On Zomato In Countries'\n",
    "                                             ,figsize=(20,10),fontsize=20)\n"
   ]
  },
  {
   "cell_type": "markdown",
   "metadata": {},
   "source": [
    "\n",
    "### India has highest number of restaurants registered on Zomato in given dataset as seen on graph above.\n",
    "Let's take restaurants data belonging to India."
   ]
  },
  {
   "cell_type": "code",
   "execution_count": 64,
   "metadata": {},
   "outputs": [
    {
     "data": {
      "text/html": [
       "<div>\n",
       "<style scoped>\n",
       "    .dataframe tbody tr th:only-of-type {\n",
       "        vertical-align: middle;\n",
       "    }\n",
       "\n",
       "    .dataframe tbody tr th {\n",
       "        vertical-align: top;\n",
       "    }\n",
       "\n",
       "    .dataframe thead th {\n",
       "        text-align: right;\n",
       "    }\n",
       "</style>\n",
       "<table border=\"1\" class=\"dataframe\">\n",
       "  <thead>\n",
       "    <tr style=\"text-align: right;\">\n",
       "      <th></th>\n",
       "      <th>Restaurant ID</th>\n",
       "      <th>Restaurant Name</th>\n",
       "      <th>Country Code</th>\n",
       "      <th>City</th>\n",
       "      <th>Address</th>\n",
       "      <th>Locality</th>\n",
       "      <th>Locality Verbose</th>\n",
       "      <th>Longitude</th>\n",
       "      <th>Latitude</th>\n",
       "      <th>Cuisines</th>\n",
       "      <th>...</th>\n",
       "      <th>Has Table booking</th>\n",
       "      <th>Has Online delivery</th>\n",
       "      <th>Is delivering now</th>\n",
       "      <th>Switch to order menu</th>\n",
       "      <th>Price range</th>\n",
       "      <th>Aggregate rating</th>\n",
       "      <th>Rating color</th>\n",
       "      <th>Rating text</th>\n",
       "      <th>Votes</th>\n",
       "      <th>Country</th>\n",
       "    </tr>\n",
       "  </thead>\n",
       "  <tbody>\n",
       "    <tr>\n",
       "      <th>624</th>\n",
       "      <td>3400025</td>\n",
       "      <td>Jahanpanah</td>\n",
       "      <td>1</td>\n",
       "      <td>Agra</td>\n",
       "      <td>E 23, Shopping Arcade, Sadar Bazaar, Agra Cant...</td>\n",
       "      <td>Agra Cantt</td>\n",
       "      <td>Agra Cantt, Agra</td>\n",
       "      <td>78.011544</td>\n",
       "      <td>27.161661</td>\n",
       "      <td>North Indian, Mughlai</td>\n",
       "      <td>...</td>\n",
       "      <td>No</td>\n",
       "      <td>No</td>\n",
       "      <td>No</td>\n",
       "      <td>No</td>\n",
       "      <td>3</td>\n",
       "      <td>3.9</td>\n",
       "      <td>Yellow</td>\n",
       "      <td>Good</td>\n",
       "      <td>140</td>\n",
       "      <td>India</td>\n",
       "    </tr>\n",
       "    <tr>\n",
       "      <th>625</th>\n",
       "      <td>3400341</td>\n",
       "      <td>Rangrezz Restaurant</td>\n",
       "      <td>1</td>\n",
       "      <td>Agra</td>\n",
       "      <td>E-20, Shopping Arcade, Sadar Bazaar, Agra Cant...</td>\n",
       "      <td>Agra Cantt</td>\n",
       "      <td>Agra Cantt, Agra</td>\n",
       "      <td>0.000000</td>\n",
       "      <td>0.000000</td>\n",
       "      <td>North Indian, Mughlai</td>\n",
       "      <td>...</td>\n",
       "      <td>No</td>\n",
       "      <td>No</td>\n",
       "      <td>No</td>\n",
       "      <td>No</td>\n",
       "      <td>2</td>\n",
       "      <td>3.5</td>\n",
       "      <td>Yellow</td>\n",
       "      <td>Good</td>\n",
       "      <td>71</td>\n",
       "      <td>India</td>\n",
       "    </tr>\n",
       "    <tr>\n",
       "      <th>626</th>\n",
       "      <td>3400005</td>\n",
       "      <td>Time2Eat - Mama Chicken</td>\n",
       "      <td>1</td>\n",
       "      <td>Agra</td>\n",
       "      <td>Main Market, Sadar Bazaar, Agra Cantt, Agra</td>\n",
       "      <td>Agra Cantt</td>\n",
       "      <td>Agra Cantt, Agra</td>\n",
       "      <td>78.011608</td>\n",
       "      <td>27.160832</td>\n",
       "      <td>North Indian</td>\n",
       "      <td>...</td>\n",
       "      <td>No</td>\n",
       "      <td>No</td>\n",
       "      <td>No</td>\n",
       "      <td>No</td>\n",
       "      <td>2</td>\n",
       "      <td>3.6</td>\n",
       "      <td>Yellow</td>\n",
       "      <td>Good</td>\n",
       "      <td>94</td>\n",
       "      <td>India</td>\n",
       "    </tr>\n",
       "    <tr>\n",
       "      <th>627</th>\n",
       "      <td>3400021</td>\n",
       "      <td>Chokho Jeeman Marwari Jain Bhojanalya</td>\n",
       "      <td>1</td>\n",
       "      <td>Agra</td>\n",
       "      <td>1/48, Delhi Gate, Station Road, Raja Mandi, Ci...</td>\n",
       "      <td>Civil Lines</td>\n",
       "      <td>Civil Lines, Agra</td>\n",
       "      <td>77.998092</td>\n",
       "      <td>27.195928</td>\n",
       "      <td>Rajasthani</td>\n",
       "      <td>...</td>\n",
       "      <td>No</td>\n",
       "      <td>No</td>\n",
       "      <td>No</td>\n",
       "      <td>No</td>\n",
       "      <td>2</td>\n",
       "      <td>4.0</td>\n",
       "      <td>Green</td>\n",
       "      <td>Very Good</td>\n",
       "      <td>87</td>\n",
       "      <td>India</td>\n",
       "    </tr>\n",
       "    <tr>\n",
       "      <th>628</th>\n",
       "      <td>3400017</td>\n",
       "      <td>Pinch Of Spice</td>\n",
       "      <td>1</td>\n",
       "      <td>Agra</td>\n",
       "      <td>23/453, Opposite Sanjay Cinema, Wazipura Road,...</td>\n",
       "      <td>Civil Lines</td>\n",
       "      <td>Civil Lines, Agra</td>\n",
       "      <td>78.007553</td>\n",
       "      <td>27.201725</td>\n",
       "      <td>North Indian, Chinese, Mughlai</td>\n",
       "      <td>...</td>\n",
       "      <td>No</td>\n",
       "      <td>No</td>\n",
       "      <td>No</td>\n",
       "      <td>No</td>\n",
       "      <td>3</td>\n",
       "      <td>4.2</td>\n",
       "      <td>Green</td>\n",
       "      <td>Very Good</td>\n",
       "      <td>177</td>\n",
       "      <td>India</td>\n",
       "    </tr>\n",
       "  </tbody>\n",
       "</table>\n",
       "<p>5 rows × 22 columns</p>\n",
       "</div>"
      ],
      "text/plain": [
       "     Restaurant ID                        Restaurant Name  Country Code  City  \\\n",
       "624        3400025                             Jahanpanah             1  Agra   \n",
       "625        3400341                    Rangrezz Restaurant             1  Agra   \n",
       "626        3400005                Time2Eat - Mama Chicken             1  Agra   \n",
       "627        3400021  Chokho Jeeman Marwari Jain Bhojanalya             1  Agra   \n",
       "628        3400017                         Pinch Of Spice             1  Agra   \n",
       "\n",
       "                                               Address     Locality  \\\n",
       "624  E 23, Shopping Arcade, Sadar Bazaar, Agra Cant...   Agra Cantt   \n",
       "625  E-20, Shopping Arcade, Sadar Bazaar, Agra Cant...   Agra Cantt   \n",
       "626        Main Market, Sadar Bazaar, Agra Cantt, Agra   Agra Cantt   \n",
       "627  1/48, Delhi Gate, Station Road, Raja Mandi, Ci...  Civil Lines   \n",
       "628  23/453, Opposite Sanjay Cinema, Wazipura Road,...  Civil Lines   \n",
       "\n",
       "      Locality Verbose  Longitude   Latitude                        Cuisines  \\\n",
       "624   Agra Cantt, Agra  78.011544  27.161661           North Indian, Mughlai   \n",
       "625   Agra Cantt, Agra   0.000000   0.000000           North Indian, Mughlai   \n",
       "626   Agra Cantt, Agra  78.011608  27.160832                    North Indian   \n",
       "627  Civil Lines, Agra  77.998092  27.195928                      Rajasthani   \n",
       "628  Civil Lines, Agra  78.007553  27.201725  North Indian, Chinese, Mughlai   \n",
       "\n",
       "     ...  Has Table booking Has Online delivery Is delivering now  \\\n",
       "624  ...                 No                  No                No   \n",
       "625  ...                 No                  No                No   \n",
       "626  ...                 No                  No                No   \n",
       "627  ...                 No                  No                No   \n",
       "628  ...                 No                  No                No   \n",
       "\n",
       "    Switch to order menu Price range Aggregate rating  Rating color  \\\n",
       "624                   No           3              3.9        Yellow   \n",
       "625                   No           2              3.5        Yellow   \n",
       "626                   No           2              3.6        Yellow   \n",
       "627                   No           2              4.0         Green   \n",
       "628                   No           3              4.2         Green   \n",
       "\n",
       "     Rating text Votes Country  \n",
       "624         Good   140   India  \n",
       "625         Good    71   India  \n",
       "626         Good    94   India  \n",
       "627    Very Good    87   India  \n",
       "628    Very Good   177   India  \n",
       "\n",
       "[5 rows x 22 columns]"
      ]
     },
     "execution_count": 64,
     "metadata": {},
     "output_type": "execute_result"
    }
   ],
   "source": [
    "# INDIA DATA\n",
    "rest_india = df[df['Country']=='India']\n",
    "rest_india['Country'].unique()\n",
    "rest_india.head()"
   ]
  },
  {
   "cell_type": "markdown",
   "metadata": {
    "tags": []
   },
   "source": [
    "## Number of restaurants present in Delhi NCR vs Rest of India."
   ]
  },
  {
   "cell_type": "code",
   "execution_count": 65,
   "metadata": {
    "tags": []
   },
   "outputs": [
    {
     "name": "stderr",
     "output_type": "stream",
     "text": [
      "<ipython-input-65-4103ef85abec>:7: SettingWithCopyWarning: \n",
      "A value is trying to be set on a copy of a slice from a DataFrame\n",
      "\n",
      "See the caveats in the documentation: https://pandas.pydata.org/pandas-docs/stable/user_guide/indexing.html#returning-a-view-versus-a-copy\n",
      "  df.City[df['Country Code']==1]=df.City[df['Country Code']==1].apply(changeCity)\n"
     ]
    },
    {
     "data": {
      "image/png": "[encoded data removed]",
      "text/plain": [
       "<Figure size 432x288 with 1 Axes>"
      ]
     },
     "metadata": {
      "needs_background": "light"
     },
     "output_type": "display_data"
    }
   ],
   "source": [
    "# Refining the city names in Country India\n",
    "def changeCity(city):\n",
    "    if city=='New Delhi'or city=='Ghaziabad' or city=='Noida' or city=='Gurgaon' or city=='Faridabad':\n",
    "        return 'Delhi-NCR'\n",
    "    else:\n",
    "        return 'Rest Of India'\n",
    "df.City[df['Country Code']==1]=df.City[df['Country Code']==1].apply(changeCity)\n",
    "# Counting the restaurants having location Delhi-NCR\n",
    "restaurants_delhi=df.City[df['City']=='Delhi-NCR'].count()\n",
    "# Counting the restaurants having location Rest Of India\n",
    "restaurants_other=df.City[df['City']=='Rest Of India'].count()\n",
    "# Plotting the graph\n",
    "plt.title('No. Of Restaurants in Delhi-NCR vs Rest Of India')\n",
    "plt.xlabel('Location')\n",
    "plt.ylabel('No. Of Restaurants')\n",
    "plt.bar(height=restaurants_delhi,x='Delhi-NCR',width=0.4,edgecolor='black')\n",
    "plt.bar(height=restaurants_other,x='Rest Of India',width=0.4,edgecolor='black')\n",
    "plt.text(x='Delhi-NCR', y=restaurants_delhi+300,s=restaurants_delhi)\n",
    "plt.text(x='Rest Of India',y=restaurants_other+300,s=restaurants_other)\n",
    "plt.ylim(0,9500)\n",
    "plt.show()"
   ]
  },
  {
   "cell_type": "code",
   "execution_count": 79,
   "metadata": {},
   "outputs": [
    {
     "data": {
      "text/html": [
       "<div>\n",
       "<style scoped>\n",
       "    .dataframe tbody tr th:only-of-type {\n",
       "        vertical-align: middle;\n",
       "    }\n",
       "\n",
       "    .dataframe tbody tr th {\n",
       "        vertical-align: top;\n",
       "    }\n",
       "\n",
       "    .dataframe thead th {\n",
       "        text-align: right;\n",
       "    }\n",
       "</style>\n",
       "<table border=\"1\" class=\"dataframe\">\n",
       "  <thead>\n",
       "    <tr style=\"text-align: right;\">\n",
       "      <th></th>\n",
       "      <th>Restaurant ID</th>\n",
       "      <th>Restaurant Name</th>\n",
       "      <th>Country Code</th>\n",
       "      <th>City</th>\n",
       "      <th>Address</th>\n",
       "      <th>Locality</th>\n",
       "      <th>Locality Verbose</th>\n",
       "      <th>Longitude</th>\n",
       "      <th>Latitude</th>\n",
       "      <th>Cuisines</th>\n",
       "      <th>...</th>\n",
       "      <th>Has Table booking</th>\n",
       "      <th>Has Online delivery</th>\n",
       "      <th>Is delivering now</th>\n",
       "      <th>Switch to order menu</th>\n",
       "      <th>Price range</th>\n",
       "      <th>Aggregate rating</th>\n",
       "      <th>Rating color</th>\n",
       "      <th>Rating text</th>\n",
       "      <th>Votes</th>\n",
       "      <th>Country</th>\n",
       "    </tr>\n",
       "  </thead>\n",
       "  <tbody>\n",
       "    <tr>\n",
       "      <th>865</th>\n",
       "      <td>301728</td>\n",
       "      <td>Desire Foods</td>\n",
       "      <td>1</td>\n",
       "      <td>Delhi-NCR</td>\n",
       "      <td>G 25/22, Main Road, 40 Feet, Molarband Extensi...</td>\n",
       "      <td>Badarpur Border</td>\n",
       "      <td>Badarpur Border, Faridabad</td>\n",
       "      <td>77.306640</td>\n",
       "      <td>28.490059</td>\n",
       "      <td>Chinese, Fast Food, Bakery</td>\n",
       "      <td>...</td>\n",
       "      <td>No</td>\n",
       "      <td>No</td>\n",
       "      <td>No</td>\n",
       "      <td>No</td>\n",
       "      <td>1</td>\n",
       "      <td>2.9</td>\n",
       "      <td>Orange</td>\n",
       "      <td>Average</td>\n",
       "      <td>4</td>\n",
       "      <td>India</td>\n",
       "    </tr>\n",
       "    <tr>\n",
       "      <th>866</th>\n",
       "      <td>5992</td>\n",
       "      <td>Knight Rock</td>\n",
       "      <td>1</td>\n",
       "      <td>Delhi-NCR</td>\n",
       "      <td>11/6, Delhi Mathura Road, Near Bharat Petrol P...</td>\n",
       "      <td>Badarpur Border</td>\n",
       "      <td>Badarpur Border, Faridabad</td>\n",
       "      <td>77.304776</td>\n",
       "      <td>28.490157</td>\n",
       "      <td>North Indian, Chinese</td>\n",
       "      <td>...</td>\n",
       "      <td>No</td>\n",
       "      <td>No</td>\n",
       "      <td>No</td>\n",
       "      <td>No</td>\n",
       "      <td>2</td>\n",
       "      <td>2.8</td>\n",
       "      <td>Orange</td>\n",
       "      <td>Average</td>\n",
       "      <td>16</td>\n",
       "      <td>India</td>\n",
       "    </tr>\n",
       "    <tr>\n",
       "      <th>867</th>\n",
       "      <td>301730</td>\n",
       "      <td>Punjab Restaurant</td>\n",
       "      <td>1</td>\n",
       "      <td>Delhi-NCR</td>\n",
       "      <td>Main 40 Feet Road, Molarband Extension, Badarp...</td>\n",
       "      <td>Badarpur Border</td>\n",
       "      <td>Badarpur Border, Faridabad</td>\n",
       "      <td>77.305563</td>\n",
       "      <td>28.490137</td>\n",
       "      <td>North Indian</td>\n",
       "      <td>...</td>\n",
       "      <td>No</td>\n",
       "      <td>No</td>\n",
       "      <td>No</td>\n",
       "      <td>No</td>\n",
       "      <td>1</td>\n",
       "      <td>2.8</td>\n",
       "      <td>Orange</td>\n",
       "      <td>Average</td>\n",
       "      <td>8</td>\n",
       "      <td>India</td>\n",
       "    </tr>\n",
       "    <tr>\n",
       "      <th>868</th>\n",
       "      <td>301729</td>\n",
       "      <td>Raju Dhaba</td>\n",
       "      <td>1</td>\n",
       "      <td>Delhi-NCR</td>\n",
       "      <td>Main 40 Feet Road, Molarband Extension, Badarp...</td>\n",
       "      <td>Badarpur Border</td>\n",
       "      <td>Badarpur Border, Faridabad</td>\n",
       "      <td>77.306102</td>\n",
       "      <td>28.490098</td>\n",
       "      <td>North Indian</td>\n",
       "      <td>...</td>\n",
       "      <td>No</td>\n",
       "      <td>No</td>\n",
       "      <td>No</td>\n",
       "      <td>No</td>\n",
       "      <td>1</td>\n",
       "      <td>2.9</td>\n",
       "      <td>Orange</td>\n",
       "      <td>Average</td>\n",
       "      <td>8</td>\n",
       "      <td>India</td>\n",
       "    </tr>\n",
       "    <tr>\n",
       "      <th>869</th>\n",
       "      <td>301731</td>\n",
       "      <td>Rakheja Bakery</td>\n",
       "      <td>1</td>\n",
       "      <td>Delhi-NCR</td>\n",
       "      <td>Main 40 Feet Road, Molarband Extension, Badarp...</td>\n",
       "      <td>Badarpur Border</td>\n",
       "      <td>Badarpur Border, Faridabad</td>\n",
       "      <td>77.305745</td>\n",
       "      <td>28.490062</td>\n",
       "      <td>Bakery</td>\n",
       "      <td>...</td>\n",
       "      <td>No</td>\n",
       "      <td>No</td>\n",
       "      <td>No</td>\n",
       "      <td>No</td>\n",
       "      <td>1</td>\n",
       "      <td>2.8</td>\n",
       "      <td>Orange</td>\n",
       "      <td>Average</td>\n",
       "      <td>7</td>\n",
       "      <td>India</td>\n",
       "    </tr>\n",
       "  </tbody>\n",
       "</table>\n",
       "<p>5 rows × 22 columns</p>\n",
       "</div>"
      ],
      "text/plain": [
       "     Restaurant ID    Restaurant Name  Country Code       City  \\\n",
       "865         301728       Desire Foods             1  Delhi-NCR   \n",
       "866           5992        Knight Rock             1  Delhi-NCR   \n",
       "867         301730  Punjab Restaurant             1  Delhi-NCR   \n",
       "868         301729         Raju Dhaba             1  Delhi-NCR   \n",
       "869         301731     Rakheja Bakery             1  Delhi-NCR   \n",
       "\n",
       "                                               Address         Locality  \\\n",
       "865  G 25/22, Main Road, 40 Feet, Molarband Extensi...  Badarpur Border   \n",
       "866  11/6, Delhi Mathura Road, Near Bharat Petrol P...  Badarpur Border   \n",
       "867  Main 40 Feet Road, Molarband Extension, Badarp...  Badarpur Border   \n",
       "868  Main 40 Feet Road, Molarband Extension, Badarp...  Badarpur Border   \n",
       "869  Main 40 Feet Road, Molarband Extension, Badarp...  Badarpur Border   \n",
       "\n",
       "               Locality Verbose  Longitude   Latitude  \\\n",
       "865  Badarpur Border, Faridabad  77.306640  28.490059   \n",
       "866  Badarpur Border, Faridabad  77.304776  28.490157   \n",
       "867  Badarpur Border, Faridabad  77.305563  28.490137   \n",
       "868  Badarpur Border, Faridabad  77.306102  28.490098   \n",
       "869  Badarpur Border, Faridabad  77.305745  28.490062   \n",
       "\n",
       "                       Cuisines  ...  Has Table booking Has Online delivery  \\\n",
       "865  Chinese, Fast Food, Bakery  ...                 No                  No   \n",
       "866       North Indian, Chinese  ...                 No                  No   \n",
       "867                North Indian  ...                 No                  No   \n",
       "868                North Indian  ...                 No                  No   \n",
       "869                      Bakery  ...                 No                  No   \n",
       "\n",
       "    Is delivering now Switch to order menu Price range Aggregate rating  \\\n",
       "865                No                   No           1              2.9   \n",
       "866                No                   No           2              2.8   \n",
       "867                No                   No           1              2.8   \n",
       "868                No                   No           1              2.9   \n",
       "869                No                   No           1              2.8   \n",
       "\n",
       "     Rating color  Rating text Votes Country  \n",
       "865        Orange      Average     4   India  \n",
       "866        Orange      Average    16   India  \n",
       "867        Orange      Average     8   India  \n",
       "868        Orange      Average     8   India  \n",
       "869        Orange      Average     7   India  \n",
       "\n",
       "[5 rows x 22 columns]"
      ]
     },
     "execution_count": 79,
     "metadata": {},
     "output_type": "execute_result"
    }
   ],
   "source": [
    "restaurants_delhi=df[df['City']=='Delhi-NCR']\n",
    "restaurants_delhi.head()"
   ]
  },
  {
   "cell_type": "markdown",
   "metadata": {},
   "source": [
    "It would be interesting to analyse and see - How people have rated the **\"Well known famous Coffee Brands\"** in New Delhi.\n",
    "\n",
    "**Analysis would answer few questions mentioned below:**\n",
    "1. Which coffee shop is rated highest by customers?\n",
    "2. Whether people rated \"Popular Coffee Shops\" with respect to their average cost?\n",
    "3. What is average cost for each \"Well Known\" Coffee shops\n"
   ]
  },
  {
   "cell_type": "code",
   "execution_count": 104,
   "metadata": {},
   "outputs": [
    {
     "data": {
      "text/html": [
       "<div>\n",
       "<style scoped>\n",
       "    .dataframe tbody tr th:only-of-type {\n",
       "        vertical-align: middle;\n",
       "    }\n",
       "\n",
       "    .dataframe tbody tr th {\n",
       "        vertical-align: top;\n",
       "    }\n",
       "\n",
       "    .dataframe thead th {\n",
       "        text-align: right;\n",
       "    }\n",
       "</style>\n",
       "<table border=\"1\" class=\"dataframe\">\n",
       "  <thead>\n",
       "    <tr style=\"text-align: right;\">\n",
       "      <th></th>\n",
       "      <th>Restaurant Name</th>\n",
       "      <th>Aggregate rating</th>\n",
       "      <th>Average Cost for two</th>\n",
       "    </tr>\n",
       "  </thead>\n",
       "  <tbody>\n",
       "    <tr>\n",
       "      <th>3</th>\n",
       "      <td>Starbucks</td>\n",
       "      <td>3.74</td>\n",
       "      <td>700</td>\n",
       "    </tr>\n",
       "    <tr>\n",
       "      <th>0</th>\n",
       "      <td>Barista</td>\n",
       "      <td>3.07</td>\n",
       "      <td>650</td>\n",
       "    </tr>\n",
       "    <tr>\n",
       "      <th>1</th>\n",
       "      <td>Cafe Coffee Day</td>\n",
       "      <td>2.42</td>\n",
       "      <td>450</td>\n",
       "    </tr>\n",
       "    <tr>\n",
       "      <th>2</th>\n",
       "      <td>Costa Coffee</td>\n",
       "      <td>2.42</td>\n",
       "      <td>600</td>\n",
       "    </tr>\n",
       "  </tbody>\n",
       "</table>\n",
       "</div>"
      ],
      "text/plain": [
       "   Restaurant Name  Aggregate rating  Average Cost for two\n",
       "3        Starbucks              3.74                   700\n",
       "0          Barista              3.07                   650\n",
       "1  Cafe Coffee Day              2.42                   450\n",
       "2     Costa Coffee              2.42                   600"
      ]
     },
     "execution_count": 104,
     "metadata": {},
     "output_type": "execute_result"
    }
   ],
   "source": [
    "coffee_shops = ['Costa Coffee','Starbucks','Barista','Cafe Coffee Day']\n",
    "\n",
    "delhi_coffee_shops = restaurants_delhi[restaurants_delhi['Restaurant Name'].isin(coffee_shops)]\n",
    "delhi_coffee_shops = delhi_coffee_shops.groupby('Restaurant Name',as_index=False)[['Aggregate rating','Average Cost for two']].mean().round(2).sort_values(ascending=False,by='Aggregate rating')\n",
    "delhi_coffee_shops"
   ]
  },
  {
   "cell_type": "markdown",
   "metadata": {},
   "source": [
    "Let's visualize this summary on **Bar Chart** to find trends of customers.\n",
    "\n",
    "**Trends:**\n",
    "1. Customers prefer and love to have Starbucks coffee though average cost in Starbucks is high as compared to other 3 coffee shops\n",
    "2. Barista is costlier than Costa Coffee. This seems to be one of the reasons that customers preferred the Costa Coffee over Barista. One more crucial deciding factor missing in dataset is the taste or different flavors of coffee offered in Barista and Costa Coffee.That's the another factor which customer might be taking into consideration when rating coffee shops\n",
    "3. Question here is whether all people visiting these coffee shops rated them.This confirmation is missing. Trends shown below could drastically change if this missed taken into this analysis"
   ]
  },
  {
   "cell_type": "code",
   "execution_count": 105,
   "metadata": {},
   "outputs": [
    {
     "data": {
      "image/png": "[encoded data removed]",
      "text/plain": [
       "<Figure size 432x288 with 1 Axes>"
      ]
     },
     "metadata": {
      "needs_background": "light"
     },
     "output_type": "display_data"
    },
    {
     "data": {
      "image/png": "[encoded data removed]",
      "text/plain": [
       "<Figure size 432x288 with 1 Axes>"
      ]
     },
     "metadata": {
      "needs_background": "light"
     },
     "output_type": "display_data"
    }
   ],
   "source": [
    "#bar graph to plot average cost for 2 people\n",
    "costs = delhi_coffee_shops['Average Cost for two']\n",
    "rnames = delhi_coffee_shops['Restaurant Name']\n",
    "colors = ['g','b','r','y']\n",
    "plt.bar(rnames,costs,color=colors,edgecolor='black')\n",
    "plt.title('Avg Cost for two in Well Known Coffee Shops in Delhi-NCR',fontsize=12)\n",
    "plt.ylabel('Average Cost')\n",
    "plt.xlabel('Coffee Shops')\n",
    "plt.show()\n",
    "\n",
    "#bar graph to plot average ratings of Well known Coffee Shops\n",
    "ratings = delhi_coffee_shops['Aggregate rating']\n",
    "plt.bar(rnames,ratings,color=colors,edgecolor='black')\n",
    "plt.title('Average Ratings for Popular Coffee Shops in Delhi-NCR',fontsize=12)\n",
    "plt.xlabel('Average rating')\n",
    "plt.ylabel('Coffee Shops')\n",
    "plt.show()"
   ]
  },
  {
   "cell_type": "markdown",
   "metadata": {},
   "source": [
    "Now, It's interesting to see how people rated **\"Non-famous local\"** Coffee Shops\n",
    "\n",
    "Trends:\n",
    "**Green Cafe** was rated at 4.6 average rating by customers which is higher than well known **\"Starbucks\"**"
   ]
  },
  {
   "cell_type": "code",
   "execution_count": 108,
   "metadata": {},
   "outputs": [],
   "source": [
    "delhi_local_coffee_shops = restaurants_delhi[(restaurants_delhi['Cuisines']=='Cafe') \n",
    "                                          & (~restaurants_delhi['Restaurant Name'].isin(coffee_shops))]\n",
    "\n",
    "top_coffee_shops=delhi_local_coffee_shops.groupby('Restaurant Name',as_index=False)[['Average Cost for two','Aggregate rating']].mean().round(2).sort_values(ascending=False,by='Aggregate rating')\n",
    "\n",
    "top_coffee_shops=top_coffee_shops[top_coffee_shops['Aggregate rating'] >= 4].sort_values(ascending=False,by='Aggregate rating')\n"
   ]
  },
  {
   "cell_type": "code",
   "execution_count": 111,
   "metadata": {},
   "outputs": [
    {
     "data": {
      "image/png": "[encoded data removed]",
      "text/plain": [
       "<Figure size 432x288 with 1 Axes>"
      ]
     },
     "metadata": {
      "needs_background": "light"
     },
     "output_type": "display_data"
    }
   ],
   "source": [
    "#plot top local coffee with average rating more than 4\n",
    "rnames = top_coffee_shops['Restaurant Name']\n",
    "colors = ['#B00303','#DC0508','#DC0508','#F9908D','#F7CAC9','#F7CAC9']\n",
    "ratings = top_coffee_shops['Aggregate rating']\n",
    "plt.bar(rnames,ratings,color=colors,edgecolor='black')\n",
    "plt.title('Top Local Coffee Shops with min 4 rating in New Delhi',fontsize=12)\n",
    "plt.ylabel('Average Rating')\n",
    "plt.xlabel('Coffee Shops')\n",
    "plt.xticks(rotation='vertical')\n",
    "plt.show()\n"
   ]
  },
  {
   "cell_type": "markdown",
   "metadata": {},
   "source": [
    "Let's see which local coffee shops are costly.\n",
    "\n",
    "**Trends:**\n",
    "* None of top 6 expensive coffee shops in New Delhi were rated above 4.0 by the customers. Interesting! And these expensive coffee shops operating through well-known multi-star hotels like The Taj Mahal,Le Meridien and The Royal Plaza"
   ]
  },
  {
   "cell_type": "code",
   "execution_count": 113,
   "metadata": {},
   "outputs": [
    {
     "data": {
      "image/png": "[encoded data removed]",
      "text/plain": [
       "<Figure size 432x288 with 1 Axes>"
      ]
     },
     "metadata": {
      "needs_background": "light"
     },
     "output_type": "display_data"
    }
   ],
   "source": [
    "expensive_coffee_shops=delhi_local_coffee_shops.groupby('Restaurant Name',as_index=False)[['Average Cost for two','Aggregate rating']].mean().round(2).sort_values(ascending=False,by='Average Cost for two').head(6)\n",
    "\n",
    "#plot 6 expensive local coffee shops\n",
    "rnames = expensive_coffee_shops['Restaurant Name']\n",
    "colors = ['#B00303','#B00303','#DC0508','#F9908D','#F7CAC9','#F7CAC9']\n",
    "ratings = expensive_coffee_shops['Average Cost for two']\n",
    "plt.bar(rnames,ratings,color=colors,edgecolor='black')\n",
    "plt.title('Expensive Local Coffee Shops in New Delhi',fontsize=12)\n",
    "plt.ylabel('Average Cost for two')\n",
    "plt.xlabel('Coffee Shops')\n",
    "plt.xticks(rotation='vertical')\n",
    "plt.show()"
   ]
  },
  {
   "cell_type": "markdown",
   "metadata": {},
   "source": [
    "With above trends, Let's see correlation between average cost for 2 vs average rating for local coffee shops in New Delhi"
   ]
  },
  {
   "cell_type": "code",
   "execution_count": 116,
   "metadata": {},
   "outputs": [
    {
     "data": {
      "image/png": "[encoded data removed]",
      "text/plain": [
       "<Figure size 720x576 with 1 Axes>"
      ]
     },
     "metadata": {
      "needs_background": "light"
     },
     "output_type": "display_data"
    },
    {
     "name": "stdout",
     "output_type": "stream",
     "text": [
      "0.051792023949734985\n"
     ]
    }
   ],
   "source": [
    "correlation = delhi_local_coffee_shops.groupby('Restaurant Name',as_index=False)[['Average Cost for two','Aggregate rating']].mean().round(2).sort_values(ascending=False,by='Aggregate rating')\n",
    "\n",
    "#plot scatter graph to analyse correlation\n",
    "weight = correlation['Aggregate rating']\n",
    "height = correlation['Average Cost for two']\n",
    "plt.figure(figsize=(10,8))\n",
    "plt.scatter(weight,height,c='g',marker='o')\n",
    "plt.xlabel('Average Rating')\n",
    "plt.ylabel('Average Cost')\n",
    "plt.title('Average Rating Vs Average Cost for Local Coffee Shops')\n",
    "plt.show()\n",
    "print(df['Aggregate rating'].corr(df['Average Cost for two']))"
   ]
  },
  {
   "cell_type": "code",
   "execution_count": null,
   "metadata": {},
   "outputs": [],
   "source": []
  }
 ],
 "metadata": {
  "kernelspec": {
   "display_name": "Python 3",
   "language": "python",
   "name": "python3"
  },
  "language_info": {
   "codemirror_mode": {
    "name": "ipython",
    "version": 3
   },
   "file_extension": ".py",
   "mimetype": "text/x-python",
   "name": "python",
   "nbconvert_exporter": "python",
   "pygments_lexer": "ipython3",
   "version": "3.8.8"
  }
 },
 "nbformat": 4,
 "nbformat_minor": 4
}
